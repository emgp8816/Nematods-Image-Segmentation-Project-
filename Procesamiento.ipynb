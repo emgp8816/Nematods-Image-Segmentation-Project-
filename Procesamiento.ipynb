{
  "nbformat": 4,
  "nbformat_minor": 0,
  "metadata": {
    "colab": {
      "provenance": []
    },
    "kernelspec": {
      "name": "python3",
      "display_name": "Python 3"
    },
    "language_info": {
      "name": "python"
    },
    "accelerator": "GPU",
    "gpuClass": "standard"
  },
  "cells": [
    {
      "cell_type": "code",
      "execution_count": null,
      "metadata": {
        "id": "IlOuK6aAiGxp"
      },
      "outputs": [],
      "source": [
        "import os\n",
        "import cv2\n",
        "import numpy as np\n",
        "import matplotlib.pyplot as plt\n",
        "from scipy import ndimage\n",
        "from skimage import morphology,color,io\n",
        "from skimage.morphology import binary_dilation\n",
        "from skimage.color import rgb2gray\n",
        "from sklearn.cluster import KMeans"
      ]
    },
    {
      "cell_type": "code",
      "source": [
        "def segmentation(img, n_clusters, im_type=\"rgb\"):\n",
        "    im_raw = np.reshape(img,(img.shape[0]*img.shape[1],img.shape[2]))\n",
        "    #K_means\n",
        "    kmeans = KMeans(n_clusters=n_clusters).fit(im_raw)\n",
        "    im_seg = np.reshape(kmeans.labels_,(img.shape[0],img.shape[1]))\n",
        "    new_img = np.zeros((img.shape[0],img.shape[1],3))\n",
        "    #Asign center\n",
        "    for i,j in zip(kmeans.cluster_centers_, range(len(kmeans.cluster_centers_))):\n",
        "        new_img[im_seg == j] = i\n",
        "        new_img = new_img.astype(np.uint8)\n",
        "    return(new_img)"
      ],
      "metadata": {
        "id": "PEGbfbT5jOF0"
      },
      "execution_count": null,
      "outputs": []
    },
    {
      "cell_type": "code",
      "source": [
        "contenido = os.listdir('/content/drive/MyDrive/Images2')\n",
        "out_path='/content/drive/MyDrive/Images_process/'\n",
        "struct = morphology.disk(21)\n",
        "for carpeta in contenido:\n",
        "    carpeta1=os.listdir('/content/drive/MyDrive/Images2/'+str(carpeta))\n",
        "    for subcarpeta in carpeta1:\n",
        "        subcarpeta1=os.listdir('/content/drive/MyDrive/Images2/'+str(carpeta)+'/'+str(subcarpeta))\n",
        "        for archivo in subcarpeta1:\n",
        "            in_path = '/content/drive/MyDrive/Images2/'+str(carpeta)+'/'+str(subcarpeta)+'/'+str(archivo)\n",
        "            print(in_path)\n",
        "            im_ori=io.imread(in_path)\n",
        "            md_im = ndimage.median_filter(im_ori, size=5)\n",
        "            mask=np.copy(md_im[:,:,0])\n",
        "            mglob=np.min(mask)\n",
        "            sglob=np.std(mask)\n",
        "            mask[mask<=mglob+sglob]=255\n",
        "            mask[mask<255]=1\n",
        "            mask[mask==255]=0\n",
        "            im_seg=np.copy(im_ori)\n",
        "            im_seg[:,:,0]=im_seg[:,:,0]*mask\n",
        "            im_seg[:,:,1]=im_seg[:,:,1]*mask\n",
        "            im_seg[:,:,2]=im_seg[:,:,2]*mask\n",
        "            im_seg[im_seg==0]=255\n",
        "            n_clusters = 4\n",
        "            im_knn = np.expand_dims(im_seg, axis=-1)\n",
        "            im_knn = np.repeat(im_seg, 3, axis=-1)\n",
        "            im_knn = segmentation(im_seg, n_clusters)\n",
        "            gimg=rgb2gray(im_knn)\n",
        "            min_knn=np.ones(gimg.shape)\n",
        "            min_knn[im_knn[:,:,0]<=np.min(im_knn[:,:,0])]=0#\n",
        "            op_im = morphology.opening(min_knn, struct)\n",
        "            op_im=np.abs(op_im-1)\n",
        "            md_imk = ndimage.median_filter(op_im, size=60)\n",
        "            im_fin=np.copy(im_ori)\n",
        "            im_fin[:,:,0]=im_fin[:,:,0]*md_imk\n",
        "            im_fin[:,:,1]=im_fin[:,:,1]*md_imk\n",
        "            im_fin[:,:,2]=im_fin[:,:,2]*md_imk\n",
        "            im_fin[im_fin==0]=255\n",
        "            io.imsave(str(out_path)+str(archivo),im_fin)"
      ],
      "metadata": {
        "colab": {
          "base_uri": "https://localhost:8080/"
        },
        "id": "mMV_SCY1jRTM",
        "outputId": "8022b813-a614-45a8-ceba-017f6d47b7a9"
      },
      "execution_count": null,
      "outputs": [
        {
          "output_type": "stream",
          "name": "stdout",
          "text": [
            "/content/drive/MyDrive/Images2/C5/C5_8/C5_8_2_b.jpg\n",
            "/content/drive/MyDrive/Images2/C5/C5_8/C5_8_3_b.jpg\n",
            "/content/drive/MyDrive/Images2/C5/C5_8/C5_8_1.jpg\n",
            "/content/drive/MyDrive/Images2/C5/C5_8/C5_8_3_a_f.jpg\n",
            "/content/drive/MyDrive/Images2/C5/C5_8/C5_8_2_a.jpg\n",
            "/content/drive/MyDrive/Images2/C5/C5_8/C5_8_3_b_f.jpg\n",
            "/content/drive/MyDrive/Images2/C5/C5_8/C5_8_2_b_f.jpg\n",
            "/content/drive/MyDrive/Images2/C5/C5_8/C5_8_2_a_f.jpg\n",
            "/content/drive/MyDrive/Images2/C5/C5_8/C5_8_1_f.jpg\n"
          ]
        }
      ]
    }
  ]
}